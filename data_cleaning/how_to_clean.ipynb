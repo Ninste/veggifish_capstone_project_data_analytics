{
 "cells": [
  {
   "cell_type": "markdown",
   "metadata": {},
   "source": [
    "## Cleaning Process"
   ]
  },
  {
   "cell_type": "markdown",
   "metadata": {},
   "source": [
    "Step 1: Import files and create dataframes with individual variables\n",
    "\n",
    "Step 2: Inspect dataframes\n",
    "\n",
    "Step 3: Delete non necessary columns and rows\n",
    "\n",
    "Step 4: Unify columns for better comparability\n",
    "\n",
    "Step 5: Unify rows for better comparability\n",
    "\n",
    "Step 6: Replace (country/species) abbreviations with full names by using dictionaries\n",
    "\n",
    "Step 7: Inspect null values / naNs\n",
    "\n",
    "Step 8: Autofill null values in nested rows when merged cells in excel/csv file is empty\n",
    "\n",
    "Step 9: Change data types:\n",
    "\n",
    "- year = integer  \n",
    "- volume = float, round to one decimal. Convert kilograms into tonnes (1t = 1000 kg)  \n",
    "- value = float, round to two decimals  \n",
    "\n",
    "Step 10: Species cleaning\n",
    "\n",
    "- Aggregate species as main_commercial_species\n",
    "- Sum up main_commercial_species in categories_species:   \n",
    "    - crustaceans: shrimps and lobster\n",
    "    - pelagic fish: tuna and salmon\n",
    "\n",
    "\n",
    "Step 11: Check language = english\n",
    "\n",
    "Step 12: Merging dataframes"
   ]
  }
 ],
 "metadata": {
  "kernelspec": {
   "display_name": "Python 3.8.9 64-bit",
   "language": "python",
   "name": "python3"
  },
  "language_info": {
   "codemirror_mode": {
    "name": "ipython",
    "version": 3
   },
   "file_extension": ".py",
   "mimetype": "text/x-python",
   "name": "python",
   "nbconvert_exporter": "python",
   "pygments_lexer": "ipython3",
   "version": "3.8.9"
  },
  "orig_nbformat": 4,
  "vscode": {
   "interpreter": {
    "hash": "31f2aee4e71d21fbe5cf8b01ff0e069b9275f58929596ceb00d14d90e3e16cd6"
   }
  }
 },
 "nbformat": 4,
 "nbformat_minor": 2
}
