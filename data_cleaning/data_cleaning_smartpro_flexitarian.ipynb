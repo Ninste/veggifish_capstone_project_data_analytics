{
 "cells": [
  {
   "cell_type": "code",
   "execution_count": 1,
   "metadata": {},
   "outputs": [],
   "source": [
    "import pandas as pd\n",
    "import numpy as np\n",
    "import matplotlib\n",
    "import seaborn as sns\n",
    "import sqlalchemy as sf\n",
    "import psycopg2"
   ]
  },
  {
   "cell_type": "code",
   "execution_count": 2,
   "metadata": {},
   "outputs": [],
   "source": [
    "from sql_functions import get_engine\n",
    "from sql_functions import get_dataframe\n",
    "from sql_functions import get_sql_config"
   ]
  },
  {
   "cell_type": "markdown",
   "metadata": {},
   "source": [
    "# Step 1: Import file and create dataframe with individual variable"
   ]
  },
  {
   "cell_type": "code",
   "execution_count": 3,
   "metadata": {},
   "outputs": [],
   "source": [
    "\n",
    "smartprotein_flexitarian = pd.read_excel(\"data/Ernährungsweisen_data/Smart Protein - Flexitarians.xlsx\")"
   ]
  },
  {
   "cell_type": "code",
   "execution_count": 4,
   "metadata": {},
   "outputs": [
    {
     "data": {
      "text/html": [
       "<div>\n",
       "<style scoped>\n",
       "    .dataframe tbody tr th:only-of-type {\n",
       "        vertical-align: middle;\n",
       "    }\n",
       "\n",
       "    .dataframe tbody tr th {\n",
       "        vertical-align: top;\n",
       "    }\n",
       "\n",
       "    .dataframe thead th {\n",
       "        text-align: right;\n",
       "    }\n",
       "</style>\n",
       "<table border=\"1\" class=\"dataframe\">\n",
       "  <thead>\n",
       "    <tr style=\"text-align: right;\">\n",
       "      <th></th>\n",
       "      <th>q_no</th>\n",
       "      <th>question</th>\n",
       "      <th>answer</th>\n",
       "      <th>no_%</th>\n",
       "    </tr>\n",
       "  </thead>\n",
       "  <tbody>\n",
       "    <tr>\n",
       "      <th>0</th>\n",
       "      <td>Q16</td>\n",
       "      <td>What kind of plant-based fish do you wish you ...</td>\n",
       "      <td>salmon</td>\n",
       "      <td>39.61</td>\n",
       "    </tr>\n",
       "    <tr>\n",
       "      <th>1</th>\n",
       "      <td>Q16</td>\n",
       "      <td>What kind of plant-based fish do you wish you ...</td>\n",
       "      <td>tuna</td>\n",
       "      <td>39.22</td>\n",
       "    </tr>\n",
       "    <tr>\n",
       "      <th>2</th>\n",
       "      <td>Q16</td>\n",
       "      <td>What kind of plant-based fish do you wish you ...</td>\n",
       "      <td>white fish</td>\n",
       "      <td>36.35</td>\n",
       "    </tr>\n",
       "    <tr>\n",
       "      <th>3</th>\n",
       "      <td>Q16</td>\n",
       "      <td>What kind of plant-based fish do you wish you ...</td>\n",
       "      <td>none</td>\n",
       "      <td>29.87</td>\n",
       "    </tr>\n",
       "    <tr>\n",
       "      <th>4</th>\n",
       "      <td>Q16</td>\n",
       "      <td>What kind of plant-based fish do you wish you ...</td>\n",
       "      <td>shellfish</td>\n",
       "      <td>26.13</td>\n",
       "    </tr>\n",
       "  </tbody>\n",
       "</table>\n",
       "</div>"
      ],
      "text/plain": [
       "  q_no                                           question      answer   no_%\n",
       "0  Q16  What kind of plant-based fish do you wish you ...      salmon  39.61\n",
       "1  Q16  What kind of plant-based fish do you wish you ...        tuna  39.22\n",
       "2  Q16  What kind of plant-based fish do you wish you ...  white fish  36.35\n",
       "3  Q16  What kind of plant-based fish do you wish you ...        none  29.87\n",
       "4  Q16  What kind of plant-based fish do you wish you ...   shellfish  26.13"
      ]
     },
     "execution_count": 4,
     "metadata": {},
     "output_type": "execute_result"
    }
   ],
   "source": [
    "smartprotein_flexitarian = smartprotein_flexitarian.round(decimals = 2)\n",
    "smartprotein_flexitarian.head()"
   ]
  },
  {
   "cell_type": "code",
   "execution_count": 5,
   "metadata": {},
   "outputs": [
    {
     "data": {
      "text/plain": [
       "array(['What kind of plant-based fish do you wish you could buy in the supermarket?',\n",
       "       'Specifically, what kind of plant-based fish products do you wish you could buy in the supermarket?',\n",
       "       'There is not enough choice in plant-based food when I eat out.',\n",
       "       'Plant-based meals or snacks are not available when I eat out.',\n",
       "       'Plant-based food product are too expensive',\n",
       "       'I need more information about plant-based food products',\n",
       "       'I choose food which has been produced in a way that minimises cruelty to animals.',\n",
       "       'To help reduce the impact of climate change, it is better to eat less animal foods (meat, dairy products, and eggs).',\n",
       "       'Consuming high amounts of meat might cause serious health problems.',\n",
       "       'Plant-based meat is too expensive.',\n",
       "       'Fish/Seafood consumption habits of flexitarians',\n",
       "       'Planted-based Fish/Seafood consumption habits of flexitarians',\n",
       "       'Which of the following would you like to have as a main ingredient in plant-based food?',\n",
       "       'What are the most important factors when choosing a plant-based/vegan food product? It is important to me that the plant-based food product I choose...'],\n",
       "      dtype=object)"
      ]
     },
     "execution_count": 5,
     "metadata": {},
     "output_type": "execute_result"
    }
   ],
   "source": [
    "smartprotein_flexitarian.question.unique()"
   ]
  },
  {
   "cell_type": "code",
   "execution_count": 6,
   "metadata": {},
   "outputs": [
    {
     "name": "stdout",
     "output_type": "stream",
     "text": [
      "The smartprotein_flexitarian table was imported successfully.\n"
     ]
    }
   ],
   "source": [
    "##smartprotein_flexitarian\n",
    "\n",
    "# Import get_engine from sql_functions.py. You will need to restart your kernel and rerun at this point since we changed the module since we first imported it.\n",
    "from sql_functions import get_engine\n",
    "# create a variable called engine using the get_engine function\n",
    "engine = get_engine()\n",
    "\n",
    "# Set the schema to your capstone schema and the table_name variable to 'fish_catch' etc + your initials/group number\n",
    "\n",
    "schema = 'capstone_fish_are_friends' # capstone schema example capstone_fish_are_friends\n",
    "table_name = 'smartprotein_flexitarian' # Example: 'carriers_pw' for Philipp Wendt\n",
    "\n",
    "\n",
    "# Write records stored in a dataframe to SQL database using to_sql() function\n",
    "if engine!=None:\n",
    "   try:\n",
    "      smartprotein_flexitarian.to_sql(name=table_name, # Name of SQL table variable\n",
    "                        con=get_engine(), # Engine or connection\n",
    "                        schema=schema, # your class schema variable\n",
    "                        if_exists='replace', # Drop the table before inserting new values \n",
    "                        index=False, # Write DataFrame index as a column\n",
    "                        chunksize=5000, # Specify the number of rows in each batch to be written at a time\n",
    "                        method='multi') # Pass multiple values in a single INSERT clause\n",
    "      print(f\"The {table_name} table was imported successfully.\")\n",
    "    # Error handling\n",
    "   except (Exception, psycopg2.DatabaseError) as error:\n",
    "      print(error)\n",
    "      engine = None\n",
    "else:\n",
    "   print('No engine')"
   ]
  }
 ],
 "metadata": {
  "kernelspec": {
   "display_name": "Python 3.9.12 ('nf_sql')",
   "language": "python",
   "name": "python3"
  },
  "language_info": {
   "codemirror_mode": {
    "name": "ipython",
    "version": 3
   },
   "file_extension": ".py",
   "mimetype": "text/x-python",
   "name": "python",
   "nbconvert_exporter": "python",
   "pygments_lexer": "ipython3",
   "version": "3.9.12"
  },
  "orig_nbformat": 4,
  "vscode": {
   "interpreter": {
    "hash": "a81d278bed5b5b59425dcb5a82ce505657686243c184b4a6b67e69d01c4d432e"
   }
  }
 },
 "nbformat": 4,
 "nbformat_minor": 2
}
