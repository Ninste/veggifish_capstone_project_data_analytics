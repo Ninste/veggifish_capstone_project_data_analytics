{
 "cells": [
  {
   "cell_type": "code",
   "execution_count": 24,
   "metadata": {},
   "outputs": [],
   "source": [
    "import pandas as pd\n",
    "import numpy as np\n",
    "import matplotlib\n",
    "import seaborn as sns\n",
    "import sqlalchemy as sf\n",
    "import psycopg2"
   ]
  },
  {
   "cell_type": "code",
   "execution_count": 25,
   "metadata": {},
   "outputs": [],
   "source": [
    "from sql_functions import get_engine\n",
    "from sql_functions import get_dataframe\n",
    "from sql_functions import get_sql_config"
   ]
  },
  {
   "cell_type": "markdown",
   "metadata": {},
   "source": [
    "Step 1: Import file and create dataframe with individual variable"
   ]
  },
  {
   "cell_type": "code",
   "execution_count": 26,
   "metadata": {},
   "outputs": [],
   "source": [
    "\n",
    "denmark = pd.read_excel(\"data/Seafood_Consumption_data/eumofa/denmark_yearly_consumption_volume_value_price.xlsx\")\n",
    "france = pd.read_excel(\"data/Seafood_Consumption_data/eumofa/france_yearly_consumption_volume_value_price.xlsx\")\n",
    "germany = pd.read_excel(\"data/Seafood_Consumption_data/eumofa/germany_yearly_consumption_volume_value_price.xlsx\")\n",
    "italy = pd.read_excel(\"data/Seafood_Consumption_data/eumofa/italy_yearly_consumption_volume_value_price.xlsx\")\n",
    "netherlands = pd.read_excel(\"data/Seafood_Consumption_data/eumofa/netherlands_yearly_consumption_volume_value_price.xlsx\")\n",
    "portugal = pd.read_excel(\"data/Seafood_Consumption_data/eumofa/portugal_yearly_consumption_volume_value_price.xlsx\")\n",
    "spain = pd.read_excel(\"data/Seafood_Consumption_data/eumofa/spain_yearly_consumption_volume_value_price.xlsx\")\n",
    "sweden = pd.read_excel(\"data/Seafood_Consumption_data/eumofa/sweden_yearly_consumption_volume_value_price.xlsx\")"
   ]
  },
  {
   "cell_type": "code",
   "execution_count": 27,
   "metadata": {},
   "outputs": [],
   "source": [
    "\n",
    "all_countries = [denmark,france,germany,italy,netherlands,portugal,spain,sweden]\n",
    "\n",
    "countries = pd.concat(all_countries)"
   ]
  },
  {
   "cell_type": "code",
   "execution_count": 28,
   "metadata": {},
   "outputs": [
    {
     "data": {
      "text/html": [
       "<div>\n",
       "<style scoped>\n",
       "    .dataframe tbody tr th:only-of-type {\n",
       "        vertical-align: middle;\n",
       "    }\n",
       "\n",
       "    .dataframe tbody tr th {\n",
       "        vertical-align: top;\n",
       "    }\n",
       "\n",
       "    .dataframe thead th {\n",
       "        text-align: right;\n",
       "    }\n",
       "</style>\n",
       "<table border=\"1\" class=\"dataframe\">\n",
       "  <thead>\n",
       "    <tr style=\"text-align: right;\">\n",
       "      <th></th>\n",
       "      <th>country</th>\n",
       "      <th>commodity_group</th>\n",
       "      <th>species</th>\n",
       "      <th>year</th>\n",
       "      <th>value_1000_eur</th>\n",
       "      <th>volume_t</th>\n",
       "      <th>eur_kg</th>\n",
       "    </tr>\n",
       "  </thead>\n",
       "  <tbody>\n",
       "    <tr>\n",
       "      <th>5</th>\n",
       "      <td>sweden</td>\n",
       "      <td>Salmonids</td>\n",
       "      <td>Salmon</td>\n",
       "      <td>2017.0</td>\n",
       "      <td>4753.38</td>\n",
       "      <td>66042.9</td>\n",
       "      <td>13.8939</td>\n",
       "    </tr>\n",
       "    <tr>\n",
       "      <th>6</th>\n",
       "      <td>sweden</td>\n",
       "      <td>Salmonids</td>\n",
       "      <td>Salmon</td>\n",
       "      <td>2018.0</td>\n",
       "      <td>4888.38</td>\n",
       "      <td>59411.4</td>\n",
       "      <td>12.1536</td>\n",
       "    </tr>\n",
       "    <tr>\n",
       "      <th>7</th>\n",
       "      <td>sweden</td>\n",
       "      <td>Salmonids</td>\n",
       "      <td>Salmon</td>\n",
       "      <td>2019.0</td>\n",
       "      <td>5687.85</td>\n",
       "      <td>68064.1</td>\n",
       "      <td>11.9666</td>\n",
       "    </tr>\n",
       "    <tr>\n",
       "      <th>8</th>\n",
       "      <td>sweden</td>\n",
       "      <td>Salmonids</td>\n",
       "      <td>Salmon</td>\n",
       "      <td>2020.0</td>\n",
       "      <td>8335.81</td>\n",
       "      <td>91509.1</td>\n",
       "      <td>10.9778</td>\n",
       "    </tr>\n",
       "    <tr>\n",
       "      <th>9</th>\n",
       "      <td>sweden</td>\n",
       "      <td>Salmonids</td>\n",
       "      <td>Salmon</td>\n",
       "      <td>2021.0</td>\n",
       "      <td>7415.03</td>\n",
       "      <td>80969.4</td>\n",
       "      <td>10.9196</td>\n",
       "    </tr>\n",
       "  </tbody>\n",
       "</table>\n",
       "</div>"
      ],
      "text/plain": [
       "  country commodity_group species    year  value_1000_eur  volume_t   eur_kg\n",
       "5  sweden       Salmonids  Salmon  2017.0         4753.38   66042.9  13.8939\n",
       "6  sweden       Salmonids  Salmon  2018.0         4888.38   59411.4  12.1536\n",
       "7  sweden       Salmonids  Salmon  2019.0         5687.85   68064.1  11.9666\n",
       "8  sweden       Salmonids  Salmon  2020.0         8335.81   91509.1  10.9778\n",
       "9  sweden       Salmonids  Salmon  2021.0         7415.03   80969.4  10.9196"
      ]
     },
     "execution_count": 28,
     "metadata": {},
     "output_type": "execute_result"
    }
   ],
   "source": [
    "countries.tail()"
   ]
  },
  {
   "cell_type": "code",
   "execution_count": 29,
   "metadata": {},
   "outputs": [
    {
     "data": {
      "text/html": [
       "<div>\n",
       "<style scoped>\n",
       "    .dataframe tbody tr th:only-of-type {\n",
       "        vertical-align: middle;\n",
       "    }\n",
       "\n",
       "    .dataframe tbody tr th {\n",
       "        vertical-align: top;\n",
       "    }\n",
       "\n",
       "    .dataframe thead th {\n",
       "        text-align: right;\n",
       "    }\n",
       "</style>\n",
       "<table border=\"1\" class=\"dataframe\">\n",
       "  <thead>\n",
       "    <tr style=\"text-align: right;\">\n",
       "      <th></th>\n",
       "      <th>country</th>\n",
       "      <th>commodity_group</th>\n",
       "      <th>species</th>\n",
       "      <th>year</th>\n",
       "      <th>volume_t</th>\n",
       "      <th>value_1000_eur</th>\n",
       "      <th>eur_kg</th>\n",
       "    </tr>\n",
       "  </thead>\n",
       "  <tbody>\n",
       "    <tr>\n",
       "      <th>0</th>\n",
       "      <td>Denmark</td>\n",
       "      <td>Salmonids</td>\n",
       "      <td>Salmon</td>\n",
       "      <td>2010.0</td>\n",
       "      <td>2355.43</td>\n",
       "      <td>46318.2</td>\n",
       "      <td>19.6645</td>\n",
       "    </tr>\n",
       "    <tr>\n",
       "      <th>1</th>\n",
       "      <td>Denmark</td>\n",
       "      <td>Salmonids</td>\n",
       "      <td>Salmon</td>\n",
       "      <td>2011.0</td>\n",
       "      <td>2446.35</td>\n",
       "      <td>49184.6</td>\n",
       "      <td>20.1053</td>\n",
       "    </tr>\n",
       "    <tr>\n",
       "      <th>2</th>\n",
       "      <td>Denmark</td>\n",
       "      <td>Salmonids</td>\n",
       "      <td>Salmon</td>\n",
       "      <td>2012.0</td>\n",
       "      <td>3206.73</td>\n",
       "      <td>58682.7</td>\n",
       "      <td>18.2999</td>\n",
       "    </tr>\n",
       "    <tr>\n",
       "      <th>3</th>\n",
       "      <td>Denmark</td>\n",
       "      <td>Salmonids</td>\n",
       "      <td>Salmon</td>\n",
       "      <td>2013.0</td>\n",
       "      <td>2994.76</td>\n",
       "      <td>56390.7</td>\n",
       "      <td>18.8298</td>\n",
       "    </tr>\n",
       "    <tr>\n",
       "      <th>4</th>\n",
       "      <td>Denmark</td>\n",
       "      <td>Salmonids</td>\n",
       "      <td>Salmon</td>\n",
       "      <td>2014.0</td>\n",
       "      <td>3148.20</td>\n",
       "      <td>64577.2</td>\n",
       "      <td>20.5125</td>\n",
       "    </tr>\n",
       "  </tbody>\n",
       "</table>\n",
       "</div>"
      ],
      "text/plain": [
       "   country commodity_group species    year  volume_t  value_1000_eur   eur_kg\n",
       "0  Denmark       Salmonids  Salmon  2010.0   2355.43         46318.2  19.6645\n",
       "1  Denmark       Salmonids  Salmon  2011.0   2446.35         49184.6  20.1053\n",
       "2  Denmark       Salmonids  Salmon  2012.0   3206.73         58682.7  18.2999\n",
       "3  Denmark       Salmonids  Salmon  2013.0   2994.76         56390.7  18.8298\n",
       "4  Denmark       Salmonids  Salmon  2014.0   3148.20         64577.2  20.5125"
      ]
     },
     "execution_count": 29,
     "metadata": {},
     "output_type": "execute_result"
    }
   ],
   "source": [
    "countries = countries.rename(columns={'value_1000_eur': 'volume_t', 'volume_t': 'value_1000_eur'})\n",
    "countries.head()"
   ]
  },
  {
   "cell_type": "markdown",
   "metadata": {},
   "source": [
    "Step 5: Rename row value names. First letter upper case e.g. EUR = Eur"
   ]
  },
  {
   "cell_type": "code",
   "execution_count": 30,
   "metadata": {},
   "outputs": [],
   "source": [
    "countries['country'] = countries['country'].str.capitalize()\n",
    "countries['commodity_group'] = countries['commodity_group'].str.capitalize()\n",
    "countries['species'] = countries['species'].str.capitalize()"
   ]
  },
  {
   "cell_type": "markdown",
   "metadata": {},
   "source": [
    "Step 7: Inspect Null Values / NaNs and datatypes with info()  "
   ]
  },
  {
   "cell_type": "code",
   "execution_count": 31,
   "metadata": {},
   "outputs": [
    {
     "name": "stdout",
     "output_type": "stream",
     "text": [
      "<class 'pandas.core.frame.DataFrame'>\n",
      "Int64Index: 126 entries, 0 to 9\n",
      "Data columns (total 7 columns):\n",
      " #   Column           Non-Null Count  Dtype  \n",
      "---  ------           --------------  -----  \n",
      " 0   country          126 non-null    object \n",
      " 1   commodity_group  126 non-null    object \n",
      " 2   species          126 non-null    object \n",
      " 3   year             126 non-null    float64\n",
      " 4   volume_t         126 non-null    float64\n",
      " 5   value_1000_eur   126 non-null    float64\n",
      " 6   eur_kg           126 non-null    float64\n",
      "dtypes: float64(4), object(3)\n",
      "memory usage: 7.9+ KB\n"
     ]
    }
   ],
   "source": [
    "# no null values detected\n",
    "countries.info()"
   ]
  },
  {
   "cell_type": "markdown",
   "metadata": {},
   "source": [
    "Step 9: Change data types if necessary:   \n",
    "* year = integer\n",
    "* volume = float, round to one decimal. Convert kilograms into tonnes (1t = 1000 kg)\n",
    "* value = float, round to two decimals"
   ]
  },
  {
   "cell_type": "code",
   "execution_count": 32,
   "metadata": {},
   "outputs": [
    {
     "name": "stdout",
     "output_type": "stream",
     "text": [
      "country             object\n",
      "commodity_group     object\n",
      "species             object\n",
      "year                 int64\n",
      "volume_t           float64\n",
      "value_1000_eur     float64\n",
      "eur_kg             float64\n",
      "dtype: object\n"
     ]
    }
   ],
   "source": [
    "# convert 'year' into integer\n",
    "countries = countries.astype({'year':'int'})\n",
    "print(countries.dtypes)"
   ]
  },
  {
   "cell_type": "code",
   "execution_count": 33,
   "metadata": {},
   "outputs": [],
   "source": [
    "# convert 'value_1000_eur' into 'value_eur'\n",
    "countries['value_1000_eur'] = countries['value_1000_eur'].multiply(1000)\n",
    "countries = countries.rename(columns={'value_1000_eur': 'value_eur'})\n",
    "countries.value_eur = countries.value_eur.round(2)"
   ]
  },
  {
   "cell_type": "code",
   "execution_count": 34,
   "metadata": {},
   "outputs": [],
   "source": [
    "# round eur_kg to two decimals\n",
    "countries.eur_kg = countries.eur_kg.round(2)"
   ]
  },
  {
   "cell_type": "markdown",
   "metadata": {},
   "source": [
    "Step 10: Species cleaning  \n",
    "* aggregate species = salmon, tuna, lobster, shrimp  \n",
    "* sum up species in categories_species = crustaceans: shrimps and lobster; pelagic fish: tuna and salmon"
   ]
  },
  {
   "cell_type": "code",
   "execution_count": 35,
   "metadata": {},
   "outputs": [],
   "source": [
    "# aggregate species\n",
    "countries['species'] = countries['species'].replace(['Shrimp, miscellaneous','Shrimp crangon spp','Tuna, miscellaneous'],['Shrimp','Shrimp','Tuna'])"
   ]
  },
  {
   "cell_type": "code",
   "execution_count": 36,
   "metadata": {},
   "outputs": [],
   "source": [
    "# aggregate category_species\n",
    "countries['commodity_group'] = countries['commodity_group'].replace(['Tuna and tuna-like species','Salmonids'],['Pelagic fish','Pelagic fish'])"
   ]
  },
  {
   "cell_type": "markdown",
   "metadata": {},
   "source": [
    "Step 12: Punctuation = decimals separator: comma, thousands separator: dot "
   ]
  },
  {
   "cell_type": "code",
   "execution_count": 37,
   "metadata": {},
   "outputs": [],
   "source": [
    "#countries['value_eur'] = [x.replace('.', ',') for x in countries['value_eur']]"
   ]
  },
  {
   "cell_type": "code",
   "execution_count": 38,
   "metadata": {},
   "outputs": [
    {
     "name": "stdout",
     "output_type": "stream",
     "text": [
      "    country commodity_group species  year  volume_t   value_eur  eur_kg\n",
      "0   Denmark    Pelagic fish  Salmon  2010   2355.43  46318200.0   19.66\n",
      "1   Denmark    Pelagic fish  Salmon  2011   2446.35  49184600.0   20.11\n",
      "2   Denmark    Pelagic fish  Salmon  2012   3206.73  58682700.0   18.30\n",
      "3   Denmark    Pelagic fish  Salmon  2013   2994.76  56390700.0   18.83\n",
      "4   Denmark    Pelagic fish  Salmon  2014   3148.20  64577200.0   20.51\n",
      "..      ...             ...     ...   ...       ...         ...     ...\n",
      "5    Sweden    Pelagic fish  Salmon  2017   4753.38  66042900.0   13.89\n",
      "6    Sweden    Pelagic fish  Salmon  2018   4888.38  59411400.0   12.15\n",
      "7    Sweden    Pelagic fish  Salmon  2019   5687.85  68064100.0   11.97\n",
      "8    Sweden    Pelagic fish  Salmon  2020   8335.81  91509100.0   10.98\n",
      "9    Sweden    Pelagic fish  Salmon  2021   7415.03  80969400.0   10.92\n",
      "\n",
      "[126 rows x 7 columns]\n"
     ]
    }
   ],
   "source": [
    "print(countries)"
   ]
  },
  {
   "cell_type": "code",
   "execution_count": 39,
   "metadata": {},
   "outputs": [
    {
     "data": {
      "text/plain": [
       "array(['Denmark', 'France', 'Germany', 'Italy', 'Netherlands', 'Portugal',\n",
       "       'Spain', 'Sweden'], dtype=object)"
      ]
     },
     "execution_count": 39,
     "metadata": {},
     "output_type": "execute_result"
    }
   ],
   "source": [
    "countries.country.unique() "
   ]
  },
  {
   "cell_type": "code",
   "execution_count": 40,
   "metadata": {},
   "outputs": [
    {
     "name": "stdout",
     "output_type": "stream",
     "text": [
      "(psycopg2.OperationalError) could not translate host name \"host\" to address: nodename nor servname provided, or not known\n",
      "\n",
      "(Background on this error at: https://sqlalche.me/e/14/e3q8)\n"
     ]
    }
   ],
   "source": [
    "##eumofa_countries_fishconsumption\n",
    "\n",
    "# Import get_engine from sql_functions.py. You will need to restart your kernel and rerun at this point since we changed the module since we first imported it.\n",
    "from sql_functions import get_engine\n",
    "# create a variable called engine using the get_engine function\n",
    "engine = get_engine()\n",
    "\n",
    "# Set the schema to your capstone schema and the table_name variable to 'fish_catch' etc + your initials/group number\n",
    "\n",
    "schema = 'capstone_fish_are_friends' # capstone schema example capstone_fish_are_friends\n",
    "table_name = 'eumofa_countries_fishconsumption' # Example: 'carriers_pw' for Philipp Wendt\n",
    "\n",
    "\n",
    "# Write records stored in a dataframe to SQL database using to_sql() function\n",
    "if engine!=None:\n",
    "   try:\n",
    "      countries.to_sql(name=table_name, # Name of SQL table variable\n",
    "                        con=get_engine(), # Engine or connection\n",
    "                        schema=schema, # your class schema variable\n",
    "                        if_exists='replace', # Drop the table before inserting new values \n",
    "                        index=False, # Write DataFrame index as a column\n",
    "                        chunksize=5000, # Specify the number of rows in each batch to be written at a time\n",
    "                        method='multi') # Pass multiple values in a single INSERT clause\n",
    "      print(f\"The {table_name} table was imported successfully.\")\n",
    "    # Error handling\n",
    "   except (Exception, psycopg2.DatabaseError) as error:\n",
    "      print(error)\n",
    "      engine = None\n",
    "else:\n",
    "   print('No engine')"
   ]
  }
 ],
 "metadata": {
  "kernelspec": {
   "display_name": "Python 3.9.12 ('nf_sql')",
   "language": "python",
   "name": "python3"
  },
  "language_info": {
   "codemirror_mode": {
    "name": "ipython",
    "version": 3
   },
   "file_extension": ".py",
   "mimetype": "text/x-python",
   "name": "python",
   "nbconvert_exporter": "python",
   "pygments_lexer": "ipython3",
   "version": "3.9.12"
  },
  "orig_nbformat": 4,
  "vscode": {
   "interpreter": {
    "hash": "a81d278bed5b5b59425dcb5a82ce505657686243c184b4a6b67e69d01c4d432e"
   }
  }
 },
 "nbformat": 4,
 "nbformat_minor": 2
}
