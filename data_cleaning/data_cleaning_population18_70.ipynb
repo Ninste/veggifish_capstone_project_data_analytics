{
 "cells": [
  {
   "cell_type": "code",
   "execution_count": 56,
   "metadata": {},
   "outputs": [],
   "source": [
    "import pandas as pd\n",
    "import numpy as np\n",
    "import matplotlib\n",
    "import seaborn as sns\n",
    "import sqlalchemy as sf\n",
    "import psycopg2"
   ]
  },
  {
   "cell_type": "code",
   "execution_count": 57,
   "metadata": {},
   "outputs": [],
   "source": [
    "from sql_functions import get_engine\n",
    "from sql_functions import get_dataframe\n",
    "from sql_functions import get_sql_config"
   ]
  },
  {
   "cell_type": "markdown",
   "metadata": {},
   "source": [
    "# Info\n",
    "<span style=\"color:orange\">The population data for Great Britain for 2021 were not available at the eurostat homepage. Further data had to be downloaded at a British public database. There just data for 2020 was available.</span>\n",
    "\n",
    "<span style=\"color:orange\">TIn this notebook the data is cleaned and concatenated.</span>"
   ]
  },
  {
   "cell_type": "markdown",
   "metadata": {},
   "source": [
    "Step 1: Import file and create dataframe with individual variable"
   ]
  },
  {
   "cell_type": "code",
   "execution_count": 58,
   "metadata": {},
   "outputs": [],
   "source": [
    "\n",
    "population18_70 = pd.read_csv(\"data/population18_70.csv\")\n",
    "population_gb = pd.read_csv(\"data/greatbritain_age_groups_2020.csv\")\n"
   ]
  },
  {
   "cell_type": "markdown",
   "metadata": {},
   "source": [
    "# First dataframe"
   ]
  },
  {
   "cell_type": "markdown",
   "metadata": {},
   "source": [
    "Step 2: Inspect dataframe with head(), info(), shape, columns, tail(), describe()"
   ]
  },
  {
   "cell_type": "code",
   "execution_count": 59,
   "metadata": {},
   "outputs": [
    {
     "data": {
      "text/html": [
       "<div>\n",
       "<style scoped>\n",
       "    .dataframe tbody tr th:only-of-type {\n",
       "        vertical-align: middle;\n",
       "    }\n",
       "\n",
       "    .dataframe tbody tr th {\n",
       "        vertical-align: top;\n",
       "    }\n",
       "\n",
       "    .dataframe thead th {\n",
       "        text-align: right;\n",
       "    }\n",
       "</style>\n",
       "<table border=\"1\" class=\"dataframe\">\n",
       "  <thead>\n",
       "    <tr style=\"text-align: right;\">\n",
       "      <th></th>\n",
       "      <th>TIME</th>\n",
       "      <th>GEO</th>\n",
       "      <th>AGE</th>\n",
       "      <th>SEX</th>\n",
       "      <th>UNIT</th>\n",
       "      <th>Value</th>\n",
       "      <th>Flag and Footnotes</th>\n",
       "    </tr>\n",
       "  </thead>\n",
       "  <tbody>\n",
       "    <tr>\n",
       "      <th>0</th>\n",
       "      <td>2021</td>\n",
       "      <td>European Union - 27 countries (from 2020)</td>\n",
       "      <td>18 years</td>\n",
       "      <td>Total</td>\n",
       "      <td>Number</td>\n",
       "      <td>4,598,262</td>\n",
       "      <td>ep</td>\n",
       "    </tr>\n",
       "    <tr>\n",
       "      <th>1</th>\n",
       "      <td>2021</td>\n",
       "      <td>European Union - 27 countries (from 2020)</td>\n",
       "      <td>19 years</td>\n",
       "      <td>Total</td>\n",
       "      <td>Number</td>\n",
       "      <td>4,676,349</td>\n",
       "      <td>ep</td>\n",
       "    </tr>\n",
       "    <tr>\n",
       "      <th>2</th>\n",
       "      <td>2021</td>\n",
       "      <td>European Union - 27 countries (from 2020)</td>\n",
       "      <td>20 years</td>\n",
       "      <td>Total</td>\n",
       "      <td>Number</td>\n",
       "      <td>4,820,916</td>\n",
       "      <td>ep</td>\n",
       "    </tr>\n",
       "    <tr>\n",
       "      <th>3</th>\n",
       "      <td>2021</td>\n",
       "      <td>European Union - 27 countries (from 2020)</td>\n",
       "      <td>21 years</td>\n",
       "      <td>Total</td>\n",
       "      <td>Number</td>\n",
       "      <td>4,771,810</td>\n",
       "      <td>ep</td>\n",
       "    </tr>\n",
       "    <tr>\n",
       "      <th>4</th>\n",
       "      <td>2021</td>\n",
       "      <td>European Union - 27 countries (from 2020)</td>\n",
       "      <td>22 years</td>\n",
       "      <td>Total</td>\n",
       "      <td>Number</td>\n",
       "      <td>4,789,687</td>\n",
       "      <td>ep</td>\n",
       "    </tr>\n",
       "  </tbody>\n",
       "</table>\n",
       "</div>"
      ],
      "text/plain": [
       "   TIME                                        GEO       AGE    SEX    UNIT  \\\n",
       "0  2021  European Union - 27 countries (from 2020)  18 years  Total  Number   \n",
       "1  2021  European Union - 27 countries (from 2020)  19 years  Total  Number   \n",
       "2  2021  European Union - 27 countries (from 2020)  20 years  Total  Number   \n",
       "3  2021  European Union - 27 countries (from 2020)  21 years  Total  Number   \n",
       "4  2021  European Union - 27 countries (from 2020)  22 years  Total  Number   \n",
       "\n",
       "       Value Flag and Footnotes  \n",
       "0  4,598,262                 ep  \n",
       "1  4,676,349                 ep  \n",
       "2  4,820,916                 ep  \n",
       "3  4,771,810                 ep  \n",
       "4  4,789,687                 ep  "
      ]
     },
     "metadata": {},
     "output_type": "display_data"
    },
    {
     "data": {
      "text/html": [
       "<div>\n",
       "<style scoped>\n",
       "    .dataframe tbody tr th:only-of-type {\n",
       "        vertical-align: middle;\n",
       "    }\n",
       "\n",
       "    .dataframe tbody tr th {\n",
       "        vertical-align: top;\n",
       "    }\n",
       "\n",
       "    .dataframe thead th {\n",
       "        text-align: right;\n",
       "    }\n",
       "</style>\n",
       "<table border=\"1\" class=\"dataframe\">\n",
       "  <thead>\n",
       "    <tr style=\"text-align: right;\">\n",
       "      <th></th>\n",
       "      <th>Ethnicity</th>\n",
       "      <th>Age 18 to 19</th>\n",
       "      <th>Age 20 to 24</th>\n",
       "      <th>Age 25 to 29</th>\n",
       "      <th>Age 30 to 34</th>\n",
       "      <th>Age 35 to 39</th>\n",
       "      <th>Age 40 to 44</th>\n",
       "      <th>Age 45 to 49</th>\n",
       "      <th>Age 50 to 54</th>\n",
       "      <th>Age 55 to 59</th>\n",
       "      <th>Age 60 to 64</th>\n",
       "      <th>Age 65 to 69</th>\n",
       "      <th>Total</th>\n",
       "    </tr>\n",
       "  </thead>\n",
       "  <tbody>\n",
       "    <tr>\n",
       "      <th>0</th>\n",
       "      <td>All Ethnic groups</td>\n",
       "      <td>1,460,156</td>\n",
       "      <td>3,807,245</td>\n",
       "      <td>3,836,609</td>\n",
       "      <td>3,683,915</td>\n",
       "      <td>3,732,161</td>\n",
       "      <td>4,099,089</td>\n",
       "      <td>4,100,526</td>\n",
       "      <td>3,601,694</td>\n",
       "      <td>3,183,915</td>\n",
       "      <td>3,377,162</td>\n",
       "      <td>2,674,161</td>\n",
       "      <td>37556633</td>\n",
       "    </tr>\n",
       "    <tr>\n",
       "      <th>1</th>\n",
       "      <td>White: Total</td>\n",
       "      <td>1,204,800</td>\n",
       "      <td>3,086,824</td>\n",
       "      <td>3,076,127</td>\n",
       "      <td>2,931,879</td>\n",
       "      <td>3,083,346</td>\n",
       "      <td>3,529,082</td>\n",
       "      <td>3,637,280</td>\n",
       "      <td>3,241,624</td>\n",
       "      <td>2,919,608</td>\n",
       "      <td>3,196,687</td>\n",
       "      <td>2,543,742</td>\n",
       "      <td>32450999</td>\n",
       "    </tr>\n",
       "    <tr>\n",
       "      <th>2</th>\n",
       "      <td>English/Welsh/Scottish/Northern Irish/British</td>\n",
       "      <td>1,151,265</td>\n",
       "      <td>2,843,471</td>\n",
       "      <td>2,639,988</td>\n",
       "      <td>2,505,636</td>\n",
       "      <td>2,778,339</td>\n",
       "      <td>3,295,988</td>\n",
       "      <td>3,448,763</td>\n",
       "      <td>3,088,536</td>\n",
       "      <td>2,793,918</td>\n",
       "      <td>3,081,271</td>\n",
       "      <td>2,450,117</td>\n",
       "      <td>30077292</td>\n",
       "    </tr>\n",
       "    <tr>\n",
       "      <th>3</th>\n",
       "      <td>Irish</td>\n",
       "      <td>6,124</td>\n",
       "      <td>22,386</td>\n",
       "      <td>30,133</td>\n",
       "      <td>31,422</td>\n",
       "      <td>32,529</td>\n",
       "      <td>39,539</td>\n",
       "      <td>42,240</td>\n",
       "      <td>39,414</td>\n",
       "      <td>42,029</td>\n",
       "      <td>47,417</td>\n",
       "      <td>46,745</td>\n",
       "      <td>379978</td>\n",
       "    </tr>\n",
       "    <tr>\n",
       "      <th>4</th>\n",
       "      <td>Gypsy or Irish Traveller</td>\n",
       "      <td>1,847</td>\n",
       "      <td>4,711</td>\n",
       "      <td>4,391</td>\n",
       "      <td>4,009</td>\n",
       "      <td>3,947</td>\n",
       "      <td>4,030</td>\n",
       "      <td>3,728</td>\n",
       "      <td>2,947</td>\n",
       "      <td>2,165</td>\n",
       "      <td>1,833</td>\n",
       "      <td>1,281</td>\n",
       "      <td>34889</td>\n",
       "    </tr>\n",
       "  </tbody>\n",
       "</table>\n",
       "</div>"
      ],
      "text/plain": [
       "                                       Ethnicity Age 18 to 19 Age 20 to 24  \\\n",
       "0                              All Ethnic groups    1,460,156    3,807,245   \n",
       "1                                   White: Total    1,204,800    3,086,824   \n",
       "2  English/Welsh/Scottish/Northern Irish/British    1,151,265    2,843,471   \n",
       "3                                          Irish        6,124       22,386   \n",
       "4                       Gypsy or Irish Traveller        1,847        4,711   \n",
       "\n",
       "  Age 25 to 29 Age 30 to 34 Age 35 to 39 Age 40 to 44 Age 45 to 49  \\\n",
       "0    3,836,609    3,683,915    3,732,161    4,099,089    4,100,526   \n",
       "1    3,076,127    2,931,879    3,083,346    3,529,082    3,637,280   \n",
       "2    2,639,988    2,505,636    2,778,339    3,295,988    3,448,763   \n",
       "3       30,133       31,422       32,529       39,539       42,240   \n",
       "4        4,391        4,009        3,947        4,030        3,728   \n",
       "\n",
       "  Age 50 to 54 Age 55 to 59 Age 60 to 64 Age 65 to 69     Total  \n",
       "0    3,601,694    3,183,915    3,377,162    2,674,161  37556633  \n",
       "1    3,241,624    2,919,608    3,196,687    2,543,742  32450999  \n",
       "2    3,088,536    2,793,918    3,081,271    2,450,117  30077292  \n",
       "3       39,414       42,029       47,417       46,745    379978  \n",
       "4        2,947        2,165        1,833        1,281     34889  "
      ]
     },
     "metadata": {},
     "output_type": "display_data"
    }
   ],
   "source": [
    "display(\n",
    "population18_70.head(),\n",
    "population_gb.head())"
   ]
  },
  {
   "cell_type": "markdown",
   "metadata": {},
   "source": [
    "Step 3: Delete non necessary columns and rows"
   ]
  },
  {
   "cell_type": "code",
   "execution_count": 60,
   "metadata": {},
   "outputs": [],
   "source": [
    "#For further research we just need the country and Value columns\n",
    "population18_70 = population18_70[['GEO', 'Value']]\n",
    "# For further research we just need selected countries\n",
    "population18_70 = population18_70.loc[population18_70['GEO'].isin(['Austria','Denmark','France','Germany including former GDR','Italy','Netherlands','Poland','Romania','Spain'])]\n"
   ]
  },
  {
   "cell_type": "markdown",
   "metadata": {},
   "source": [
    "Step 4: Rename columns lower case, snake case, spaces, delimiters  "
   ]
  },
  {
   "cell_type": "code",
   "execution_count": 61,
   "metadata": {},
   "outputs": [
    {
     "data": {
      "text/plain": [
       "array(['Denmark', 'Germany including former GDR', 'Spain', 'France',\n",
       "       'Italy', 'Netherlands', 'Austria', 'Poland', 'Romania'],\n",
       "      dtype=object)"
      ]
     },
     "execution_count": 61,
     "metadata": {},
     "output_type": "execute_result"
    }
   ],
   "source": [
    "population18_70['GEO'].unique()"
   ]
  },
  {
   "cell_type": "code",
   "execution_count": 62,
   "metadata": {},
   "outputs": [],
   "source": [
    "population18_70['GEO'].str.strip()\n",
    "population18_70['GEO'] = population18_70['GEO'].replace({'Germany including former GDR' : 'Germany'}, regex=True)\n",
    "population18_70.columns = population18_70.columns.str.lower()\n"
   ]
  },
  {
   "cell_type": "markdown",
   "metadata": {},
   "source": [
    "Convert value to integar"
   ]
  },
  {
   "cell_type": "code",
   "execution_count": 63,
   "metadata": {},
   "outputs": [],
   "source": [
    "population18_70['value'] = population18_70['value'].str.replace(',', '')\n",
    "\n",
    "population18_70 = population18_70.astype(int, errors='ignore')"
   ]
  },
  {
   "cell_type": "code",
   "execution_count": 64,
   "metadata": {},
   "outputs": [],
   "source": [
    "population18_70 = population18_70.groupby('geo').sum().reset_index()"
   ]
  },
  {
   "cell_type": "code",
   "execution_count": 65,
   "metadata": {},
   "outputs": [
    {
     "data": {
      "text/html": [
       "<div>\n",
       "<style scoped>\n",
       "    .dataframe tbody tr th:only-of-type {\n",
       "        vertical-align: middle;\n",
       "    }\n",
       "\n",
       "    .dataframe tbody tr th {\n",
       "        vertical-align: top;\n",
       "    }\n",
       "\n",
       "    .dataframe thead th {\n",
       "        text-align: right;\n",
       "    }\n",
       "</style>\n",
       "<table border=\"1\" class=\"dataframe\">\n",
       "  <thead>\n",
       "    <tr style=\"text-align: right;\">\n",
       "      <th></th>\n",
       "      <th>geo</th>\n",
       "      <th>value</th>\n",
       "    </tr>\n",
       "  </thead>\n",
       "  <tbody>\n",
       "    <tr>\n",
       "      <th>0</th>\n",
       "      <td>Austria</td>\n",
       "      <td>6218160</td>\n",
       "    </tr>\n",
       "    <tr>\n",
       "      <th>1</th>\n",
       "      <td>Denmark</td>\n",
       "      <td>3892210</td>\n",
       "    </tr>\n",
       "    <tr>\n",
       "      <th>2</th>\n",
       "      <td>France</td>\n",
       "      <td>43841505</td>\n",
       "    </tr>\n",
       "    <tr>\n",
       "      <th>3</th>\n",
       "      <td>Germany</td>\n",
       "      <td>56960325</td>\n",
       "    </tr>\n",
       "    <tr>\n",
       "      <th>4</th>\n",
       "      <td>Italy</td>\n",
       "      <td>40104428</td>\n",
       "    </tr>\n",
       "  </tbody>\n",
       "</table>\n",
       "</div>"
      ],
      "text/plain": [
       "       geo     value\n",
       "0  Austria   6218160\n",
       "1  Denmark   3892210\n",
       "2   France  43841505\n",
       "3  Germany  56960325\n",
       "4    Italy  40104428"
      ]
     },
     "execution_count": 65,
     "metadata": {},
     "output_type": "execute_result"
    }
   ],
   "source": [
    "\n",
    "population18_70.head()"
   ]
  },
  {
   "cell_type": "markdown",
   "metadata": {},
   "source": [
    "# Second dataframe"
   ]
  },
  {
   "cell_type": "code",
   "execution_count": 66,
   "metadata": {},
   "outputs": [
    {
     "data": {
      "text/html": [
       "<div>\n",
       "<style scoped>\n",
       "    .dataframe tbody tr th:only-of-type {\n",
       "        vertical-align: middle;\n",
       "    }\n",
       "\n",
       "    .dataframe tbody tr th {\n",
       "        vertical-align: top;\n",
       "    }\n",
       "\n",
       "    .dataframe thead th {\n",
       "        text-align: right;\n",
       "    }\n",
       "</style>\n",
       "<table border=\"1\" class=\"dataframe\">\n",
       "  <thead>\n",
       "    <tr style=\"text-align: right;\">\n",
       "      <th></th>\n",
       "      <th>Ethnicity</th>\n",
       "      <th>Age 18 to 19</th>\n",
       "      <th>Age 20 to 24</th>\n",
       "      <th>Age 25 to 29</th>\n",
       "      <th>Age 30 to 34</th>\n",
       "      <th>Age 35 to 39</th>\n",
       "      <th>Age 40 to 44</th>\n",
       "      <th>Age 45 to 49</th>\n",
       "      <th>Age 50 to 54</th>\n",
       "      <th>Age 55 to 59</th>\n",
       "      <th>Age 60 to 64</th>\n",
       "      <th>Age 65 to 69</th>\n",
       "      <th>Total</th>\n",
       "    </tr>\n",
       "  </thead>\n",
       "  <tbody>\n",
       "    <tr>\n",
       "      <th>0</th>\n",
       "      <td>All Ethnic groups</td>\n",
       "      <td>1,460,156</td>\n",
       "      <td>3,807,245</td>\n",
       "      <td>3,836,609</td>\n",
       "      <td>3,683,915</td>\n",
       "      <td>3,732,161</td>\n",
       "      <td>4,099,089</td>\n",
       "      <td>4,100,526</td>\n",
       "      <td>3,601,694</td>\n",
       "      <td>3,183,915</td>\n",
       "      <td>3,377,162</td>\n",
       "      <td>2,674,161</td>\n",
       "      <td>37556633</td>\n",
       "    </tr>\n",
       "    <tr>\n",
       "      <th>1</th>\n",
       "      <td>White: Total</td>\n",
       "      <td>1,204,800</td>\n",
       "      <td>3,086,824</td>\n",
       "      <td>3,076,127</td>\n",
       "      <td>2,931,879</td>\n",
       "      <td>3,083,346</td>\n",
       "      <td>3,529,082</td>\n",
       "      <td>3,637,280</td>\n",
       "      <td>3,241,624</td>\n",
       "      <td>2,919,608</td>\n",
       "      <td>3,196,687</td>\n",
       "      <td>2,543,742</td>\n",
       "      <td>32450999</td>\n",
       "    </tr>\n",
       "    <tr>\n",
       "      <th>2</th>\n",
       "      <td>English/Welsh/Scottish/Northern Irish/British</td>\n",
       "      <td>1,151,265</td>\n",
       "      <td>2,843,471</td>\n",
       "      <td>2,639,988</td>\n",
       "      <td>2,505,636</td>\n",
       "      <td>2,778,339</td>\n",
       "      <td>3,295,988</td>\n",
       "      <td>3,448,763</td>\n",
       "      <td>3,088,536</td>\n",
       "      <td>2,793,918</td>\n",
       "      <td>3,081,271</td>\n",
       "      <td>2,450,117</td>\n",
       "      <td>30077292</td>\n",
       "    </tr>\n",
       "    <tr>\n",
       "      <th>3</th>\n",
       "      <td>Irish</td>\n",
       "      <td>6,124</td>\n",
       "      <td>22,386</td>\n",
       "      <td>30,133</td>\n",
       "      <td>31,422</td>\n",
       "      <td>32,529</td>\n",
       "      <td>39,539</td>\n",
       "      <td>42,240</td>\n",
       "      <td>39,414</td>\n",
       "      <td>42,029</td>\n",
       "      <td>47,417</td>\n",
       "      <td>46,745</td>\n",
       "      <td>379978</td>\n",
       "    </tr>\n",
       "    <tr>\n",
       "      <th>4</th>\n",
       "      <td>Gypsy or Irish Traveller</td>\n",
       "      <td>1,847</td>\n",
       "      <td>4,711</td>\n",
       "      <td>4,391</td>\n",
       "      <td>4,009</td>\n",
       "      <td>3,947</td>\n",
       "      <td>4,030</td>\n",
       "      <td>3,728</td>\n",
       "      <td>2,947</td>\n",
       "      <td>2,165</td>\n",
       "      <td>1,833</td>\n",
       "      <td>1,281</td>\n",
       "      <td>34889</td>\n",
       "    </tr>\n",
       "  </tbody>\n",
       "</table>\n",
       "</div>"
      ],
      "text/plain": [
       "                                       Ethnicity Age 18 to 19 Age 20 to 24  \\\n",
       "0                              All Ethnic groups    1,460,156    3,807,245   \n",
       "1                                   White: Total    1,204,800    3,086,824   \n",
       "2  English/Welsh/Scottish/Northern Irish/British    1,151,265    2,843,471   \n",
       "3                                          Irish        6,124       22,386   \n",
       "4                       Gypsy or Irish Traveller        1,847        4,711   \n",
       "\n",
       "  Age 25 to 29 Age 30 to 34 Age 35 to 39 Age 40 to 44 Age 45 to 49  \\\n",
       "0    3,836,609    3,683,915    3,732,161    4,099,089    4,100,526   \n",
       "1    3,076,127    2,931,879    3,083,346    3,529,082    3,637,280   \n",
       "2    2,639,988    2,505,636    2,778,339    3,295,988    3,448,763   \n",
       "3       30,133       31,422       32,529       39,539       42,240   \n",
       "4        4,391        4,009        3,947        4,030        3,728   \n",
       "\n",
       "  Age 50 to 54 Age 55 to 59 Age 60 to 64 Age 65 to 69     Total  \n",
       "0    3,601,694    3,183,915    3,377,162    2,674,161  37556633  \n",
       "1    3,241,624    2,919,608    3,196,687    2,543,742  32450999  \n",
       "2    3,088,536    2,793,918    3,081,271    2,450,117  30077292  \n",
       "3       39,414       42,029       47,417       46,745    379978  \n",
       "4        2,947        2,165        1,833        1,281     34889  "
      ]
     },
     "execution_count": 66,
     "metadata": {},
     "output_type": "execute_result"
    }
   ],
   "source": [
    "population_gb.head()"
   ]
  },
  {
   "cell_type": "code",
   "execution_count": 67,
   "metadata": {},
   "outputs": [
    {
     "data": {
      "text/html": [
       "<div>\n",
       "<style scoped>\n",
       "    .dataframe tbody tr th:only-of-type {\n",
       "        vertical-align: middle;\n",
       "    }\n",
       "\n",
       "    .dataframe tbody tr th {\n",
       "        vertical-align: top;\n",
       "    }\n",
       "\n",
       "    .dataframe thead th {\n",
       "        text-align: right;\n",
       "    }\n",
       "</style>\n",
       "<table border=\"1\" class=\"dataframe\">\n",
       "  <thead>\n",
       "    <tr style=\"text-align: right;\">\n",
       "      <th></th>\n",
       "      <th>Ethnicity</th>\n",
       "      <th>Total</th>\n",
       "    </tr>\n",
       "  </thead>\n",
       "  <tbody>\n",
       "    <tr>\n",
       "      <th>0</th>\n",
       "      <td>All Ethnic groups</td>\n",
       "      <td>37556633</td>\n",
       "    </tr>\n",
       "  </tbody>\n",
       "</table>\n",
       "</div>"
      ],
      "text/plain": [
       "           Ethnicity     Total\n",
       "0  All Ethnic groups  37556633"
      ]
     },
     "execution_count": 67,
     "metadata": {},
     "output_type": "execute_result"
    }
   ],
   "source": [
    "#For further research we just need the country and Value columns\n",
    "population_gb = population_gb[['Ethnicity', 'Total']]\n",
    "# For further research we just need selected countries\n",
    "population_gb = population_gb.loc[population_gb['Ethnicity'].isin(['All Ethnic groups'])]\n",
    "\n",
    "population_gb.head()"
   ]
  },
  {
   "cell_type": "code",
   "execution_count": 68,
   "metadata": {},
   "outputs": [],
   "source": [
    "# covert the table into a concatable format\n",
    "population_gb['Ethnicity'] = population_gb['Ethnicity'].replace({'All Ethnic groups' : 'United Kingdom'}, regex=True)\n",
    "\n",
    "population_gb.rename(columns={'Ethnicity':'geo','Total':'value'}, inplace=True)"
   ]
  },
  {
   "cell_type": "markdown",
   "metadata": {},
   "source": [
    "# Concat the two dataframes"
   ]
  },
  {
   "cell_type": "code",
   "execution_count": 69,
   "metadata": {},
   "outputs": [],
   "source": [
    "population18_70 = pd.concat([population18_70,population_gb])"
   ]
  },
  {
   "cell_type": "code",
   "execution_count": 70,
   "metadata": {},
   "outputs": [
    {
     "name": "stdout",
     "output_type": "stream",
     "text": [
      "The population18_70 table was imported successfully.\n"
     ]
    }
   ],
   "source": [
    "##population18_70\n",
    "\n",
    "# Import get_engine from sql_functions.py. You will need to restart your kernel and rerun at this point since we changed the module since we first imported it.\n",
    "from sql_functions import get_engine\n",
    "# create a variable called engine using the get_engine function\n",
    "engine = get_engine()\n",
    "\n",
    "# Set the schema to your capstone schema and the table_name variable to 'fish_catch' etc + your initials/group number\n",
    "\n",
    "schema = 'capstone_fish_are_friends' # capstone schema example capstone_fish_are_friends\n",
    "table_name = 'population18_70' # Example: 'carriers_pw' for Philipp Wendt\n",
    "\n",
    "\n",
    "# Write records stored in a dataframe to SQL database using to_sql() function\n",
    "if engine!=None:\n",
    "   try:\n",
    "      population18_70.to_sql(name=table_name, # Name of SQL table variable\n",
    "                        con=get_engine(), # Engine or connection\n",
    "                        schema=schema, # your class schema variable\n",
    "                        if_exists='replace', # Drop the table before inserting new values \n",
    "                        index=False, # Write DataFrame index as a column\n",
    "                        chunksize=5000, # Specify the number of rows in each batch to be written at a time\n",
    "                        method='multi') # Pass multiple values in a single INSERT clause\n",
    "      print(f\"The {table_name} table was imported successfully.\")\n",
    "    # Error handling\n",
    "   except (Exception, psycopg2.DatabaseError) as error:\n",
    "      print(error)\n",
    "      engine = None\n",
    "else:\n",
    "   print('No engine')"
   ]
  }
 ],
 "metadata": {
  "kernelspec": {
   "display_name": "Python 3.9.12 ('nf_sql')",
   "language": "python",
   "name": "python3"
  },
  "language_info": {
   "codemirror_mode": {
    "name": "ipython",
    "version": 3
   },
   "file_extension": ".py",
   "mimetype": "text/x-python",
   "name": "python",
   "nbconvert_exporter": "python",
   "pygments_lexer": "ipython3",
   "version": "3.9.12"
  },
  "orig_nbformat": 4,
  "vscode": {
   "interpreter": {
    "hash": "a81d278bed5b5b59425dcb5a82ce505657686243c184b4a6b67e69d01c4d432e"
   }
  }
 },
 "nbformat": 4,
 "nbformat_minor": 2
}
